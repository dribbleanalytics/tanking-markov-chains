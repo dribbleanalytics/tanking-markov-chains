{
 "cells": [
  {
   "cell_type": "code",
   "execution_count": null,
   "metadata": {},
   "outputs": [],
   "source": [
    "import pandas as pd\n",
    "import numpy as np\n",
    "import matplotlib.pyplot as plt"
   ]
  },
  {
   "cell_type": "markdown",
   "metadata": {},
   "source": [
    "# Markov chain functions"
   ]
  },
  {
   "cell_type": "code",
   "execution_count": null,
   "metadata": {},
   "outputs": [],
   "source": [
    "numbers = ['one', 'two', 'three', 'four', 'five', 'six', 'seven', 'eight', 'nine', 'ten']\n",
    "\n",
    "def combo_maker(n_states):\n",
    "    \n",
    "    state_combo = []\n",
    "    \n",
    "    for i in numbers[0:n_states]:\n",
    "        for j in range(0, n_states):\n",
    "            state_combo.append(i + \"_\" + numbers[j])\n",
    "            \n",
    "    return(state_combo)"
   ]
  },
  {
   "cell_type": "code",
   "execution_count": null,
   "metadata": {},
   "outputs": [],
   "source": [
    "def list_to_matrix(trans_list, col_count):\n",
    "    \n",
    "    n = col_count\n",
    "    trans_matrix = [trans_list[i:i+n] for i in range(0, len(trans_list), n)]\n",
    "\n",
    "    return trans_matrix"
   ]
  },
  {
   "cell_type": "code",
   "execution_count": null,
   "metadata": {},
   "outputs": [],
   "source": [
    "def prob_initializer(combo_matrix):\n",
    "    \n",
    "    trans_list = []\n",
    "    \n",
    "    zero_list = [0] * len(combo_matrix)\n",
    "\n",
    "    for x, y in zip(combo_matrix, zero_list):\n",
    "        globals()[x] = y\n",
    "        trans_list.append(globals()[x])\n",
    "        \n",
    "    return(trans_list)"
   ]
  },
  {
   "cell_type": "code",
   "execution_count": null,
   "metadata": {},
   "outputs": [],
   "source": [
    "def state_count(df, trans_matrix):\n",
    "    \n",
    "    cols = list(df)\n",
    "    cols = len(cols)\n",
    "    \n",
    "    for i in range(0, 30):\n",
    "        for j in range(2, cols):\n",
    "            for x in range(1, len(trans_matrix) + 1):\n",
    "                for y in range(1, len(trans_matrix) + 1):\n",
    "                    if((df.loc[i][j - 1] == x) & (df.loc[i][j] == y)):\n",
    "                        trans_matrix[x - 1][y - 1] += 1\n",
    "                        \n",
    "    return trans_matrix"
   ]
  },
  {
   "cell_type": "code",
   "execution_count": null,
   "metadata": {},
   "outputs": [],
   "source": [
    "def state_prob(trans_matrix):\n",
    "    \n",
    "    trans_prob_matrix = []\n",
    "    \n",
    "    for i in trans_matrix:\n",
    "        count = sum(i)\n",
    "        trans_prob_matrix.append([x / count for x in i])\n",
    "        \n",
    "    return(trans_prob_matrix)"
   ]
  },
  {
   "cell_type": "code",
   "execution_count": null,
   "metadata": {},
   "outputs": [],
   "source": [
    "def playoff_prob(start_state, num_years, trans_name, trans_prob_matrix):\n",
    "    \n",
    "    state_list = [start_state]\n",
    "    i = 0\n",
    "    \n",
    "    prob = 1\n",
    "    while i != num_years:\n",
    "        for possible_state in range(len(trans_name)):\n",
    "            if(start_state == possible_state):\n",
    "                change = np.random.choice(trans_name[possible_state], replace = True, p = trans_prob_matrix[possible_state])\n",
    "                for state in range(len(trans_name)):\n",
    "                    if(change == trans_name[possible_state][state]):\n",
    "                        prob = prob * trans_matrix[possible_state][state]\n",
    "                        state_list.append(state)\n",
    "        i += 1\n",
    "    return(state_list)"
   ]
  },
  {
   "cell_type": "code",
   "execution_count": null,
   "metadata": {},
   "outputs": [],
   "source": [
    "def playoff_prob_list(start_state, years, trans_name, trans_prob_matrix, playoff_state, n_simulations):\n",
    "    \n",
    "    playoff_prob_list = []\n",
    "    \n",
    "    for i in range(1, years + 1):\n",
    "        list_activity = []\n",
    "        count = 0\n",
    "        \n",
    "        for iterations in range(1, n_simulations):\n",
    "            list_activity.append(playoff_prob(start_state, i, trans_name, trans_prob_matrix))\n",
    "        for states in list_activity:\n",
    "            if playoff_state in states:\n",
    "                count += 1\n",
    "                \n",
    "        percentage = count / n_simulations\n",
    "        playoff_prob_list.append(percentage)\n",
    "    \n",
    "    return(playoff_prob_list)"
   ]
  },
  {
   "cell_type": "markdown",
   "metadata": {},
   "source": [
    "# Create 3-state Markov chain"
   ]
  },
  {
   "cell_type": "code",
   "execution_count": null,
   "metadata": {},
   "outputs": [],
   "source": [
    "df_3_chain = pd.read_csv('3_state_chain_data.csv')\n",
    "df_3_chain = df_3_chain.fillna(0)\n",
    "\n",
    "df_3_chain.head()"
   ]
  },
  {
   "cell_type": "code",
   "execution_count": null,
   "metadata": {},
   "outputs": [],
   "source": [
    "trans_name = combo_maker(3)\n",
    "trans_list = prob_initializer(trans_name)\n",
    "\n",
    "trans_name = list_to_matrix(trans_name, 3)"
   ]
  },
  {
   "cell_type": "code",
   "execution_count": null,
   "metadata": {},
   "outputs": [],
   "source": [
    "trans_matrix = list_to_matrix(trans_list, 3)\n",
    "trans_matrix = state_count(df_3_chain, trans_matrix)"
   ]
  },
  {
   "cell_type": "code",
   "execution_count": null,
   "metadata": {},
   "outputs": [],
   "source": [
    "trans_prob_matrix = state_prob(trans_matrix)"
   ]
  },
  {
   "cell_type": "code",
   "execution_count": null,
   "metadata": {},
   "outputs": [],
   "source": [
    "trans_prob_matrix"
   ]
  },
  {
   "cell_type": "code",
   "execution_count": null,
   "metadata": {},
   "outputs": [],
   "source": [
    "bottom_playoff = playoff_prob_list(0, 5, trans_name, trans_prob_matrix, 2, 100000)\n",
    "lottery_playoff = playoff_prob_list(1, 5, trans_name, trans_prob_matrix, 2, 100000)"
   ]
  },
  {
   "cell_type": "markdown",
   "metadata": {},
   "source": [
    "# Plot 3-state chain results"
   ]
  },
  {
   "cell_type": "code",
   "execution_count": null,
   "metadata": {},
   "outputs": [],
   "source": [
    "plt.style.use('fivethirtyeight')\n",
    "\n",
    "three_chain_five_years, ax = plt.subplots()\n",
    "\n",
    "x = range(1, 6)\n",
    "\n",
    "ax.plot(x, bottom_playoff)\n",
    "ax.plot(x, lottery_playoff)\n",
    "\n",
    "ax.set_xlabel('Years since start')\n",
    "ax.set_ylabel('% made playoffs')\n",
    "\n",
    "three_chain_five_years.suptitle(\"Playoff probability (100k simulations)\", weight = 'bold', size = 18)\n",
    "\n",
    "ax.set_ylim([0, 1])\n",
    "vals = ax.get_yticks()\n",
    "ax.set_yticklabels(['{:,.0%}'.format(x) for x in vals])\n",
    "\n",
    "ax.axhline(y = .5, alpha = .2, color = 'grey')\n",
    "\n",
    "three_chain_five_years.text(x = 0.3, y = 0.35,\n",
    "    s = 'Start from bottom 5',\n",
    "    fontsize = 16, fontname = 'Rockwell', color = 'C0', horizontalalignment='left', rotation = 15)\n",
    "\n",
    "three_chain_five_years.text(x = 0.3, y = 0.67,\n",
    "    s = 'Start from lottery',\n",
    "    fontsize = 16, fontname = 'Rockwell', color = 'C1', horizontalalignment='left', rotation = 20)\n",
    "\n",
    "three_chain_five_years.text(x = -0.07, y = -0.08,\n",
    "    s = '_______________________________________________________________',\n",
    "    fontsize = 14, color = 'grey', horizontalalignment='left')\n",
    "\n",
    "three_chain_five_years.text(x = -0.07, y = -.14,\n",
    "    s = 'https://dribbleanalytics.blog',\n",
    "    fontsize = 14, fontname = 'Rockwell', color = 'grey', horizontalalignment='left')\n",
    "\n",
    "three_chain_five_years.savefig('three-chain-five-years.png', dpi = 400, bbox_inches = 'tight')"
   ]
  },
  {
   "cell_type": "code",
   "execution_count": null,
   "metadata": {},
   "outputs": [],
   "source": [
    "bottom_playoff = playoff_prob_list(0, 10, trans_name, trans_prob_matrix, 2, 100000)\n",
    "lottery_playoff = playoff_prob_list(1, 10, trans_name, trans_prob_matrix, 2, 100000)"
   ]
  },
  {
   "cell_type": "code",
   "execution_count": null,
   "metadata": {},
   "outputs": [],
   "source": [
    "plt.style.use('fivethirtyeight')\n",
    "\n",
    "three_chain_ten_years, ax = plt.subplots()\n",
    "\n",
    "x = range(1, 11)\n",
    "\n",
    "ax.plot(x, bottom_playoff)\n",
    "ax.plot(x, lottery_playoff)\n",
    "\n",
    "ax.set_xlabel('Years since start')\n",
    "ax.set_ylabel('% made playoffs')\n",
    "\n",
    "three_chain_ten_years.suptitle(\"Playoff probability (100k simulations)\", weight = 'bold', size = 18)\n",
    "\n",
    "ax.set_ylim([0, 1])\n",
    "vals = ax.get_yticks()\n",
    "ax.set_yticklabels(['{:,.0%}'.format(x) for x in vals])\n",
    "\n",
    "ax.axhline(y = .5, alpha = .2, color = 'grey')\n",
    "\n",
    "three_chain_ten_years.text(x = 0.3, y = 0.53,\n",
    "    s = 'Start from bottom 5',\n",
    "    fontsize = 16, fontname = 'Rockwell', color = 'C0', horizontalalignment='left', rotation = 25)\n",
    "\n",
    "three_chain_ten_years.text(x = 0.3, y = 0.8,\n",
    "    s = 'Start from lottery',\n",
    "    fontsize = 16, fontname = 'Rockwell', color = 'C1', horizontalalignment='left', rotation = 20)\n",
    "\n",
    "three_chain_ten_years.text(x = -0.07, y = -0.08,\n",
    "    s = '_______________________________________________________________',\n",
    "    fontsize = 14, color = 'grey', horizontalalignment='left')\n",
    "\n",
    "three_chain_ten_years.text(x = -0.07, y = -.14,\n",
    "    s = 'https://dribbleanalytics.blog',\n",
    "    fontsize = 14, fontname = 'Rockwell', color = 'grey', horizontalalignment='left')\n",
    "\n",
    "three_chain_ten_years.savefig('three-chain-ten-years.png', dpi = 400, bbox_inches = 'tight')"
   ]
  },
  {
   "cell_type": "markdown",
   "metadata": {},
   "source": [
    "# Create 4-state Markov chain"
   ]
  },
  {
   "cell_type": "code",
   "execution_count": null,
   "metadata": {},
   "outputs": [],
   "source": [
    "df_4_chain = pd.read_csv('4_state_chain_data.csv')\n",
    "df_4_chain = df_4_chain.fillna(0)\n",
    "\n",
    "df_4_chain.head()"
   ]
  },
  {
   "cell_type": "code",
   "execution_count": null,
   "metadata": {},
   "outputs": [],
   "source": [
    "trans_name = combo_maker(4)\n",
    "trans_list = prob_initializer(trans_name)\n",
    "\n",
    "trans_name = list_to_matrix(trans_name, 4)"
   ]
  },
  {
   "cell_type": "code",
   "execution_count": null,
   "metadata": {},
   "outputs": [],
   "source": [
    "trans_matrix = list_to_matrix(trans_list, 4)\n",
    "trans_matrix = state_count(df_4_chain, trans_matrix)"
   ]
  },
  {
   "cell_type": "code",
   "execution_count": null,
   "metadata": {},
   "outputs": [],
   "source": [
    "trans_prob_matrix = state_prob(trans_matrix)"
   ]
  },
  {
   "cell_type": "code",
   "execution_count": null,
   "metadata": {},
   "outputs": [],
   "source": [
    "trans_prob_matrix"
   ]
  },
  {
   "cell_type": "code",
   "execution_count": null,
   "metadata": {},
   "outputs": [],
   "source": [
    "five_playoff = playoff_prob_list(0, 5, trans_name, trans_prob_matrix, 3, 100000)\n",
    "ten_playoff = playoff_prob_list(1, 5, trans_name, trans_prob_matrix, 3, 100000)\n",
    "lottery_playoff = playoff_prob_list(2, 5, trans_name, trans_prob_matrix, 3, 100000)"
   ]
  },
  {
   "cell_type": "markdown",
   "metadata": {},
   "source": [
    "# Plot 4-state chain results"
   ]
  },
  {
   "cell_type": "code",
   "execution_count": null,
   "metadata": {},
   "outputs": [],
   "source": [
    "plt.style.use('fivethirtyeight')\n",
    "\n",
    "four_chain_five_years, ax = plt.subplots()\n",
    "\n",
    "x = range(1, 6)\n",
    "\n",
    "ax.plot(x, five_playoff)\n",
    "ax.plot(x, ten_playoff)\n",
    "ax.plot(x, lottery_playoff)\n",
    "\n",
    "ax.set_xlabel('Years since start')\n",
    "ax.set_ylabel('% made playoffs')\n",
    "\n",
    "four_chain_five_years.suptitle(\"Playoff probability (100k simulations)\", weight = 'bold', size = 18)\n",
    "\n",
    "ax.set_ylim([0, 1])\n",
    "vals = ax.get_yticks()\n",
    "ax.set_yticklabels(['{:,.0%}'.format(x) for x in vals])\n",
    "\n",
    "ax.axhline(y = .5, alpha = .2, color = 'grey')\n",
    "\n",
    "four_chain_five_years.text(x = 0.3, y = 0.33,\n",
    "    s = 'Start from bottom 5',\n",
    "    fontsize = 16, fontname = 'Rockwell', color = 'C0', horizontalalignment='left', rotation = 15)\n",
    "\n",
    "four_chain_five_years.text(x = 0.3, y = 0.57,\n",
    "    s = 'Start from 6-10',\n",
    "    fontsize = 16, fontname = 'Rockwell', color = 'C1', horizontalalignment='left', rotation = 20)\n",
    "\n",
    "four_chain_five_years.text(x = 0.3, y = 0.7,\n",
    "    s = 'Start from 11-14',\n",
    "    fontsize = 16, fontname = 'Rockwell', color = 'C2', horizontalalignment='left', rotation = 20)\n",
    "\n",
    "four_chain_five_years.text(x = -0.07, y = -0.08,\n",
    "    s = '_______________________________________________________________',\n",
    "    fontsize = 14, color = 'grey', horizontalalignment='left')\n",
    "\n",
    "four_chain_five_years.text(x = -0.07, y = -.14,\n",
    "    s = 'https://dribbleanalytics.blog',\n",
    "    fontsize = 14, fontname = 'Rockwell', color = 'grey', horizontalalignment='left')\n",
    "\n",
    "four_chain_five_years.savefig('four-chain-five-years.png', dpi = 400, bbox_inches = 'tight')"
   ]
  },
  {
   "cell_type": "code",
   "execution_count": null,
   "metadata": {},
   "outputs": [],
   "source": [
    "five_playoff = playoff_prob_list(0, 10, trans_name, trans_prob_matrix, 3, 100000)\n",
    "ten_playoff = playoff_prob_list(1, 10, trans_name, trans_prob_matrix, 3, 100000)\n",
    "lottery_playoff = playoff_prob_list(2, 10, trans_name, trans_prob_matrix, 3, 100000)"
   ]
  },
  {
   "cell_type": "code",
   "execution_count": null,
   "metadata": {},
   "outputs": [],
   "source": [
    "plt.style.use('fivethirtyeight')\n",
    "\n",
    "four_chain_ten_years, ax = plt.subplots()\n",
    "\n",
    "x = range(1, 11)\n",
    "\n",
    "ax.plot(x, five_playoff)\n",
    "ax.plot(x, ten_playoff)\n",
    "ax.plot(x, lottery_playoff)\n",
    "\n",
    "ax.set_xlabel('Years since start')\n",
    "ax.set_ylabel('% made playoffs')\n",
    "\n",
    "four_chain_ten_years.suptitle(\"Playoff probability (100k simulations)\", weight = 'bold', size = 18)\n",
    "\n",
    "ax.set_ylim([0, 1])\n",
    "vals = ax.get_yticks()\n",
    "ax.set_yticklabels(['{:,.0%}'.format(x) for x in vals])\n",
    "\n",
    "ax.axhline(y = .5, alpha = .2, color = 'grey')\n",
    "\n",
    "four_chain_ten_years.text(x = 0.3, y = 0.5,\n",
    "    s = 'Start from bottom 5',\n",
    "    fontsize = 16, fontname = 'Rockwell', color = 'C0', horizontalalignment='left', rotation = 25)\n",
    "\n",
    "four_chain_ten_years.text(x = 0.3, y = 0.72,\n",
    "    s = 'Start from 6-10',\n",
    "    fontsize = 16, fontname = 'Rockwell', color = 'C1', horizontalalignment='left', rotation = 25)\n",
    "\n",
    "four_chain_ten_years.text(x = 0.1, y = 0.82,\n",
    "    s = 'Start from 11-14',\n",
    "    fontsize = 16, fontname = 'Rockwell', color = 'C2', horizontalalignment='left', rotation = 25)\n",
    "\n",
    "four_chain_ten_years.text(x = -0.07, y = -0.08,\n",
    "    s = '_______________________________________________________________',\n",
    "    fontsize = 14, color = 'grey', horizontalalignment='left')\n",
    "\n",
    "four_chain_ten_years.text(x = -0.07, y = -.14,\n",
    "    s = 'https://dribbleanalytics.blog',\n",
    "    fontsize = 14, fontname = 'Rockwell', color = 'grey', horizontalalignment='left')\n",
    "\n",
    "four_chain_ten_years.savefig('four-chain-ten-years.png', dpi = 400, bbox_inches = 'tight')"
   ]
  },
  {
   "cell_type": "markdown",
   "metadata": {},
   "source": [
    "# Create 7-state Markov chain"
   ]
  },
  {
   "cell_type": "code",
   "execution_count": null,
   "metadata": {},
   "outputs": [],
   "source": [
    "df_7_chain = pd.read_csv('7_state_chain_data.csv')\n",
    "df_7_chain = df_7_chain.fillna(0)\n",
    "\n",
    "df_7_chain.head()"
   ]
  },
  {
   "cell_type": "code",
   "execution_count": null,
   "metadata": {},
   "outputs": [],
   "source": [
    "trans_name = combo_maker(7)\n",
    "trans_list = prob_initializer(trans_name)\n",
    "\n",
    "trans_name = list_to_matrix(trans_name, 7)"
   ]
  },
  {
   "cell_type": "code",
   "execution_count": null,
   "metadata": {},
   "outputs": [],
   "source": [
    "trans_matrix = list_to_matrix(trans_list, 7)\n",
    "trans_matrix = state_count(df_7_chain, trans_matrix)"
   ]
  },
  {
   "cell_type": "code",
   "execution_count": null,
   "metadata": {},
   "outputs": [],
   "source": [
    "trans_prob_matrix = state_prob(trans_matrix)"
   ]
  },
  {
   "cell_type": "code",
   "execution_count": null,
   "metadata": {},
   "outputs": [],
   "source": [
    "trans_prob_matrix"
   ]
  },
  {
   "cell_type": "code",
   "execution_count": null,
   "metadata": {},
   "outputs": [],
   "source": [
    "bottom_cf = playoff_prob_list(0, 5, trans_name, trans_prob_matrix, 4, 100000)\n",
    "lottery_cf = playoff_prob_list(1, 5, trans_name, trans_prob_matrix, 4, 100000)\n",
    "first_round_cf = playoff_prob_list(2, 5, trans_name, trans_prob_matrix, 4, 100000)"
   ]
  },
  {
   "cell_type": "code",
   "execution_count": null,
   "metadata": {},
   "outputs": [],
   "source": [
    "plt.style.use('fivethirtyeight')\n",
    "\n",
    "seven_chain_five_years, ax = plt.subplots()\n",
    "\n",
    "x = range(1, 6)\n",
    "\n",
    "ax.plot(x, bottom_cf)\n",
    "ax.plot(x, lottery_cf)\n",
    "ax.plot(x, first_round_cf)\n",
    "\n",
    "ax.set_xlabel('Years since start')\n",
    "ax.set_ylabel('% made conference finals')\n",
    "\n",
    "seven_chain_five_years.suptitle(\"Conf. finals prob. (100k simulations)\", weight = 'bold', size = 18)\n",
    "\n",
    "ax.set_ylim([0, .5])\n",
    "vals = ax.get_yticks()\n",
    "ax.set_yticklabels(['{:,.0%}'.format(x) for x in vals])\n",
    "\n",
    "ax.axhline(y = .5, alpha = .2, color = 'grey')\n",
    "\n",
    "seven_chain_five_years.text(x = 0.3, y = 0.15,\n",
    "    s = 'Start from bottom 5',\n",
    "    fontsize = 16, fontname = 'Rockwell', color = 'C0', horizontalalignment='left', rotation = 5)\n",
    "\n",
    "seven_chain_five_years.text(x = 0.3, y = 0.3,\n",
    "    s = 'Start from lottery',\n",
    "    fontsize = 16, fontname = 'Rockwell', color = 'C1', horizontalalignment='left', rotation = 10)\n",
    "\n",
    "seven_chain_five_years.text(x = 0.3, y = 0.55,\n",
    "    s = 'Start from first round',\n",
    "    fontsize = 16, fontname = 'Rockwell', color = 'C2', horizontalalignment='left', rotation = 20)\n",
    "\n",
    "seven_chain_five_years.text(x = -0.07, y = -0.08,\n",
    "    s = '_______________________________________________________________',\n",
    "    fontsize = 14, color = 'grey', horizontalalignment='left')\n",
    "\n",
    "seven_chain_five_years.text(x = -0.07, y = -.14,\n",
    "    s = 'https://dribbleanalytics.blog',\n",
    "    fontsize = 14, fontname = 'Rockwell', color = 'grey', horizontalalignment='left')\n",
    "\n",
    "seven_chain_five_years.savefig('seven-chain-five-years.png', dpi = 400, bbox_inches = 'tight')"
   ]
  },
  {
   "cell_type": "code",
   "execution_count": null,
   "metadata": {},
   "outputs": [],
   "source": [
    "bottom_cf = playoff_prob_list(0, 10, trans_name, trans_prob_matrix, 4, 100000)\n",
    "lottery_cf = playoff_prob_list(1, 10, trans_name, trans_prob_matrix, 4, 100000)\n",
    "first_round_cf = playoff_prob_list(2, 10, trans_name, trans_prob_matrix, 4, 100000)"
   ]
  },
  {
   "cell_type": "code",
   "execution_count": null,
   "metadata": {},
   "outputs": [],
   "source": [
    "plt.style.use('fivethirtyeight')\n",
    "\n",
    "seven_chain_ten_years, ax = plt.subplots()\n",
    "\n",
    "x = range(1, 11)\n",
    "\n",
    "ax.plot(x, bottom_cf)\n",
    "ax.plot(x, lottery_cf)\n",
    "ax.plot(x, first_round_cf)\n",
    "\n",
    "ax.set_xlabel('Years since start')\n",
    "ax.set_ylabel('% made conference finals')\n",
    "\n",
    "seven_chain_ten_years.suptitle(\"Conf. finals prob. (100k simulations)\", weight = 'bold', size = 18)\n",
    "\n",
    "ax.set_ylim([0, 1])\n",
    "vals = ax.get_yticks()\n",
    "ax.set_yticklabels(['{:,.0%}'.format(x) for x in vals])\n",
    "\n",
    "ax.axhline(y = .5, alpha = .2, color = 'grey')\n",
    "\n",
    "seven_chain_ten_years.text(x = 0.5, y = 0.14,\n",
    "    s = 'Start from bottom 5',\n",
    "    fontsize = 16, fontname = 'Rockwell', color = 'C0', horizontalalignment='left', rotation = 0)\n",
    "\n",
    "seven_chain_ten_years.text(x = 0.5, y = 0.32,\n",
    "    s = 'Start from lottery',\n",
    "    fontsize = 16, fontname = 'Rockwell', color = 'C1', horizontalalignment='left', rotation = 10)\n",
    "\n",
    "seven_chain_ten_years.text(x = 0.5, y = 0.56,\n",
    "    s = 'Start from first round',\n",
    "    fontsize = 16, fontname = 'Rockwell', color = 'C2', horizontalalignment='left', rotation = 20)\n",
    "\n",
    "seven_chain_ten_years.text(x = -0.07, y = -0.08,\n",
    "    s = '_______________________________________________________________',\n",
    "    fontsize = 14, color = 'grey', horizontalalignment='left')\n",
    "\n",
    "seven_chain_ten_years.text(x = -0.07, y = -.14,\n",
    "    s = 'https://dribbleanalytics.blog',\n",
    "    fontsize = 14, fontname = 'Rockwell', color = 'grey', horizontalalignment='left')\n",
    "\n",
    "seven_chain_ten_years.savefig('seven-chain-ten-years.png', dpi = 400, bbox_inches = 'tight')"
   ]
  }
 ],
 "metadata": {
  "kernelspec": {
   "display_name": "Python 3",
   "language": "python",
   "name": "python3"
  },
  "language_info": {
   "codemirror_mode": {
    "name": "ipython",
    "version": 3
   },
   "file_extension": ".py",
   "mimetype": "text/x-python",
   "name": "python",
   "nbconvert_exporter": "python",
   "pygments_lexer": "ipython3",
   "version": "3.6.4"
  }
 },
 "nbformat": 4,
 "nbformat_minor": 2
}
